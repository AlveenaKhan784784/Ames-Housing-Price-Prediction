{
 "cells": [
  {
   "cell_type": "markdown",
   "id": "3ee70b35-cd2d-4d4d-95e1-05609be1b720",
   "metadata": {},
   "source": [
    "## OBJECTIVE:\n",
    "\n",
    "The objective of this project is to predict house prices in Ames, Iowa, using machine learning techniques. The goals are:\n",
    "- To explore and preprocess the dataset.\n",
    "- To build and evaluate regression model.\n",
    "- To identify the key features influencing house prices.\n",
    "- To demonstrate advanced data science techniques and workflows.\n",
    "\n",
    "## Tools and Technologies:\n",
    "In this project, the following tools and technologies are utilize:\n",
    "- **Programming Language:** Python\n",
    "- **Libraries:** Pandas, NumPy, Matplotlib, Seaborn, Scikit-Learn\n",
    "- **Environment:** Jupyter Notebook\n"
   ]
  },
  {
   "cell_type": "code",
   "execution_count": 5,
   "id": "2cbbe72b-68d7-4e4e-b9a7-24b160938255",
   "metadata": {},
   "outputs": [],
   "source": [
    "# Importing libraries\n",
    "\n",
    "import pandas as pd\n",
    "import numpy as np\n",
    "import matplotlib.pyplot as plt\n",
    "import seaborn as sns"
   ]
  },
  {
   "cell_type": "code",
   "execution_count": 6,
   "id": "99d0439f-45c0-46dd-ade1-b6469284f58d",
   "metadata": {},
   "outputs": [],
   "source": [
    "## Load datasets\n",
    "train_df = pd.read_csv('train.csv')\n",
    "test_df = pd.read_csv('test.csv')"
   ]
  },
  {
   "cell_type": "code",
   "execution_count": 7,
   "id": "e5e12703-0e8f-413a-83d0-b3a7667bdcbc",
   "metadata": {},
   "outputs": [
    {
     "data": {
      "text/html": [
       "<div>\n",
       "<style scoped>\n",
       "    .dataframe tbody tr th:only-of-type {\n",
       "        vertical-align: middle;\n",
       "    }\n",
       "\n",
       "    .dataframe tbody tr th {\n",
       "        vertical-align: top;\n",
       "    }\n",
       "\n",
       "    .dataframe thead th {\n",
       "        text-align: right;\n",
       "    }\n",
       "</style>\n",
       "<table border=\"1\" class=\"dataframe\">\n",
       "  <thead>\n",
       "    <tr style=\"text-align: right;\">\n",
       "      <th></th>\n",
       "      <th>Order</th>\n",
       "      <th>PID</th>\n",
       "      <th>MS SubClass</th>\n",
       "      <th>MS Zoning</th>\n",
       "      <th>Lot Frontage</th>\n",
       "      <th>Lot Area</th>\n",
       "      <th>Street</th>\n",
       "      <th>Alley</th>\n",
       "      <th>Lot Shape</th>\n",
       "      <th>Land Contour</th>\n",
       "      <th>...</th>\n",
       "      <th>Pool Area</th>\n",
       "      <th>Pool QC</th>\n",
       "      <th>Fence</th>\n",
       "      <th>Misc Feature</th>\n",
       "      <th>Misc Val</th>\n",
       "      <th>Mo Sold</th>\n",
       "      <th>Yr Sold</th>\n",
       "      <th>Sale Type</th>\n",
       "      <th>Sale Condition</th>\n",
       "      <th>SalePrice</th>\n",
       "    </tr>\n",
       "  </thead>\n",
       "  <tbody>\n",
       "    <tr>\n",
       "      <th>0</th>\n",
       "      <td>534</td>\n",
       "      <td>531363010</td>\n",
       "      <td>20</td>\n",
       "      <td>RL</td>\n",
       "      <td>80.0</td>\n",
       "      <td>9605</td>\n",
       "      <td>Pave</td>\n",
       "      <td>NaN</td>\n",
       "      <td>Reg</td>\n",
       "      <td>Lvl</td>\n",
       "      <td>...</td>\n",
       "      <td>0</td>\n",
       "      <td>NaN</td>\n",
       "      <td>NaN</td>\n",
       "      <td>NaN</td>\n",
       "      <td>0</td>\n",
       "      <td>4</td>\n",
       "      <td>2009</td>\n",
       "      <td>WD</td>\n",
       "      <td>Normal</td>\n",
       "      <td>159000</td>\n",
       "    </tr>\n",
       "    <tr>\n",
       "      <th>1</th>\n",
       "      <td>803</td>\n",
       "      <td>906203120</td>\n",
       "      <td>20</td>\n",
       "      <td>RL</td>\n",
       "      <td>90.0</td>\n",
       "      <td>14684</td>\n",
       "      <td>Pave</td>\n",
       "      <td>NaN</td>\n",
       "      <td>IR1</td>\n",
       "      <td>Lvl</td>\n",
       "      <td>...</td>\n",
       "      <td>0</td>\n",
       "      <td>NaN</td>\n",
       "      <td>NaN</td>\n",
       "      <td>NaN</td>\n",
       "      <td>0</td>\n",
       "      <td>6</td>\n",
       "      <td>2009</td>\n",
       "      <td>WD</td>\n",
       "      <td>Normal</td>\n",
       "      <td>271900</td>\n",
       "    </tr>\n",
       "    <tr>\n",
       "      <th>2</th>\n",
       "      <td>956</td>\n",
       "      <td>916176030</td>\n",
       "      <td>20</td>\n",
       "      <td>RL</td>\n",
       "      <td>NaN</td>\n",
       "      <td>14375</td>\n",
       "      <td>Pave</td>\n",
       "      <td>NaN</td>\n",
       "      <td>IR1</td>\n",
       "      <td>Lvl</td>\n",
       "      <td>...</td>\n",
       "      <td>0</td>\n",
       "      <td>NaN</td>\n",
       "      <td>NaN</td>\n",
       "      <td>NaN</td>\n",
       "      <td>0</td>\n",
       "      <td>1</td>\n",
       "      <td>2009</td>\n",
       "      <td>COD</td>\n",
       "      <td>Abnorml</td>\n",
       "      <td>137500</td>\n",
       "    </tr>\n",
       "    <tr>\n",
       "      <th>3</th>\n",
       "      <td>460</td>\n",
       "      <td>528180130</td>\n",
       "      <td>120</td>\n",
       "      <td>RL</td>\n",
       "      <td>48.0</td>\n",
       "      <td>6472</td>\n",
       "      <td>Pave</td>\n",
       "      <td>NaN</td>\n",
       "      <td>Reg</td>\n",
       "      <td>Lvl</td>\n",
       "      <td>...</td>\n",
       "      <td>0</td>\n",
       "      <td>NaN</td>\n",
       "      <td>NaN</td>\n",
       "      <td>NaN</td>\n",
       "      <td>0</td>\n",
       "      <td>4</td>\n",
       "      <td>2009</td>\n",
       "      <td>WD</td>\n",
       "      <td>Normal</td>\n",
       "      <td>248500</td>\n",
       "    </tr>\n",
       "    <tr>\n",
       "      <th>4</th>\n",
       "      <td>487</td>\n",
       "      <td>528290030</td>\n",
       "      <td>80</td>\n",
       "      <td>RL</td>\n",
       "      <td>61.0</td>\n",
       "      <td>9734</td>\n",
       "      <td>Pave</td>\n",
       "      <td>NaN</td>\n",
       "      <td>IR1</td>\n",
       "      <td>Lvl</td>\n",
       "      <td>...</td>\n",
       "      <td>0</td>\n",
       "      <td>NaN</td>\n",
       "      <td>NaN</td>\n",
       "      <td>NaN</td>\n",
       "      <td>0</td>\n",
       "      <td>5</td>\n",
       "      <td>2009</td>\n",
       "      <td>WD</td>\n",
       "      <td>Normal</td>\n",
       "      <td>167000</td>\n",
       "    </tr>\n",
       "  </tbody>\n",
       "</table>\n",
       "<p>5 rows × 82 columns</p>\n",
       "</div>"
      ],
      "text/plain": [
       "   Order        PID  MS SubClass MS Zoning  Lot Frontage  Lot Area Street  \\\n",
       "0    534  531363010           20        RL          80.0      9605   Pave   \n",
       "1    803  906203120           20        RL          90.0     14684   Pave   \n",
       "2    956  916176030           20        RL           NaN     14375   Pave   \n",
       "3    460  528180130          120        RL          48.0      6472   Pave   \n",
       "4    487  528290030           80        RL          61.0      9734   Pave   \n",
       "\n",
       "  Alley Lot Shape Land Contour  ... Pool Area Pool QC Fence Misc Feature  \\\n",
       "0   NaN       Reg          Lvl  ...         0     NaN   NaN          NaN   \n",
       "1   NaN       IR1          Lvl  ...         0     NaN   NaN          NaN   \n",
       "2   NaN       IR1          Lvl  ...         0     NaN   NaN          NaN   \n",
       "3   NaN       Reg          Lvl  ...         0     NaN   NaN          NaN   \n",
       "4   NaN       IR1          Lvl  ...         0     NaN   NaN          NaN   \n",
       "\n",
       "  Misc Val Mo Sold Yr Sold Sale Type  Sale Condition  SalePrice  \n",
       "0        0       4    2009       WD           Normal     159000  \n",
       "1        0       6    2009       WD           Normal     271900  \n",
       "2        0       1    2009       COD         Abnorml     137500  \n",
       "3        0       4    2009       WD           Normal     248500  \n",
       "4        0       5    2009       WD           Normal     167000  \n",
       "\n",
       "[5 rows x 82 columns]"
      ]
     },
     "execution_count": 7,
     "metadata": {},
     "output_type": "execute_result"
    }
   ],
   "source": [
    "# Display the first few rows of each data set\n",
    "train_df.head()"
   ]
  },
  {
   "cell_type": "code",
   "execution_count": 8,
   "id": "3d1fc837-9628-4f60-b75f-f13ab7dc5eb0",
   "metadata": {},
   "outputs": [
    {
     "data": {
      "text/html": [
       "<div>\n",
       "<style scoped>\n",
       "    .dataframe tbody tr th:only-of-type {\n",
       "        vertical-align: middle;\n",
       "    }\n",
       "\n",
       "    .dataframe tbody tr th {\n",
       "        vertical-align: top;\n",
       "    }\n",
       "\n",
       "    .dataframe thead th {\n",
       "        text-align: right;\n",
       "    }\n",
       "</style>\n",
       "<table border=\"1\" class=\"dataframe\">\n",
       "  <thead>\n",
       "    <tr style=\"text-align: right;\">\n",
       "      <th></th>\n",
       "      <th>Order</th>\n",
       "      <th>PID</th>\n",
       "      <th>MS SubClass</th>\n",
       "      <th>MS Zoning</th>\n",
       "      <th>Lot Frontage</th>\n",
       "      <th>Lot Area</th>\n",
       "      <th>Street</th>\n",
       "      <th>Alley</th>\n",
       "      <th>Lot Shape</th>\n",
       "      <th>Land Contour</th>\n",
       "      <th>...</th>\n",
       "      <th>Screen Porch</th>\n",
       "      <th>Pool Area</th>\n",
       "      <th>Pool QC</th>\n",
       "      <th>Fence</th>\n",
       "      <th>Misc Feature</th>\n",
       "      <th>Misc Val</th>\n",
       "      <th>Mo Sold</th>\n",
       "      <th>Yr Sold</th>\n",
       "      <th>Sale Type</th>\n",
       "      <th>Sale Condition</th>\n",
       "    </tr>\n",
       "  </thead>\n",
       "  <tbody>\n",
       "    <tr>\n",
       "      <th>0</th>\n",
       "      <td>2127</td>\n",
       "      <td>907135180</td>\n",
       "      <td>20</td>\n",
       "      <td>RL</td>\n",
       "      <td>60.0</td>\n",
       "      <td>8070</td>\n",
       "      <td>Pave</td>\n",
       "      <td>NaN</td>\n",
       "      <td>Reg</td>\n",
       "      <td>Lvl</td>\n",
       "      <td>...</td>\n",
       "      <td>0</td>\n",
       "      <td>0</td>\n",
       "      <td>NaN</td>\n",
       "      <td>NaN</td>\n",
       "      <td>NaN</td>\n",
       "      <td>0</td>\n",
       "      <td>8</td>\n",
       "      <td>2007</td>\n",
       "      <td>WD</td>\n",
       "      <td>Normal</td>\n",
       "    </tr>\n",
       "    <tr>\n",
       "      <th>1</th>\n",
       "      <td>193</td>\n",
       "      <td>903206120</td>\n",
       "      <td>75</td>\n",
       "      <td>RL</td>\n",
       "      <td>NaN</td>\n",
       "      <td>7793</td>\n",
       "      <td>Pave</td>\n",
       "      <td>NaN</td>\n",
       "      <td>IR1</td>\n",
       "      <td>Bnk</td>\n",
       "      <td>...</td>\n",
       "      <td>0</td>\n",
       "      <td>0</td>\n",
       "      <td>NaN</td>\n",
       "      <td>NaN</td>\n",
       "      <td>NaN</td>\n",
       "      <td>0</td>\n",
       "      <td>5</td>\n",
       "      <td>2010</td>\n",
       "      <td>WD</td>\n",
       "      <td>Normal</td>\n",
       "    </tr>\n",
       "    <tr>\n",
       "      <th>2</th>\n",
       "      <td>2407</td>\n",
       "      <td>528181040</td>\n",
       "      <td>120</td>\n",
       "      <td>RL</td>\n",
       "      <td>40.0</td>\n",
       "      <td>6792</td>\n",
       "      <td>Pave</td>\n",
       "      <td>NaN</td>\n",
       "      <td>IR1</td>\n",
       "      <td>Lvl</td>\n",
       "      <td>...</td>\n",
       "      <td>0</td>\n",
       "      <td>0</td>\n",
       "      <td>NaN</td>\n",
       "      <td>NaN</td>\n",
       "      <td>NaN</td>\n",
       "      <td>0</td>\n",
       "      <td>3</td>\n",
       "      <td>2006</td>\n",
       "      <td>New</td>\n",
       "      <td>Partial</td>\n",
       "    </tr>\n",
       "    <tr>\n",
       "      <th>3</th>\n",
       "      <td>46</td>\n",
       "      <td>528175010</td>\n",
       "      <td>120</td>\n",
       "      <td>RL</td>\n",
       "      <td>44.0</td>\n",
       "      <td>6371</td>\n",
       "      <td>Pave</td>\n",
       "      <td>NaN</td>\n",
       "      <td>IR1</td>\n",
       "      <td>Lvl</td>\n",
       "      <td>...</td>\n",
       "      <td>0</td>\n",
       "      <td>0</td>\n",
       "      <td>NaN</td>\n",
       "      <td>NaN</td>\n",
       "      <td>NaN</td>\n",
       "      <td>0</td>\n",
       "      <td>6</td>\n",
       "      <td>2010</td>\n",
       "      <td>New</td>\n",
       "      <td>Partial</td>\n",
       "    </tr>\n",
       "    <tr>\n",
       "      <th>4</th>\n",
       "      <td>2478</td>\n",
       "      <td>531379030</td>\n",
       "      <td>60</td>\n",
       "      <td>RL</td>\n",
       "      <td>70.0</td>\n",
       "      <td>8304</td>\n",
       "      <td>Pave</td>\n",
       "      <td>NaN</td>\n",
       "      <td>IR1</td>\n",
       "      <td>Lvl</td>\n",
       "      <td>...</td>\n",
       "      <td>0</td>\n",
       "      <td>0</td>\n",
       "      <td>NaN</td>\n",
       "      <td>GdPrv</td>\n",
       "      <td>NaN</td>\n",
       "      <td>0</td>\n",
       "      <td>7</td>\n",
       "      <td>2006</td>\n",
       "      <td>WD</td>\n",
       "      <td>Normal</td>\n",
       "    </tr>\n",
       "  </tbody>\n",
       "</table>\n",
       "<p>5 rows × 81 columns</p>\n",
       "</div>"
      ],
      "text/plain": [
       "   Order        PID  MS SubClass MS Zoning  Lot Frontage  Lot Area Street  \\\n",
       "0   2127  907135180           20        RL          60.0      8070   Pave   \n",
       "1    193  903206120           75        RL           NaN      7793   Pave   \n",
       "2   2407  528181040          120        RL          40.0      6792   Pave   \n",
       "3     46  528175010          120        RL          44.0      6371   Pave   \n",
       "4   2478  531379030           60        RL          70.0      8304   Pave   \n",
       "\n",
       "  Alley Lot Shape Land Contour  ... Screen Porch Pool Area Pool QC  Fence  \\\n",
       "0   NaN       Reg          Lvl  ...            0         0     NaN    NaN   \n",
       "1   NaN       IR1          Bnk  ...            0         0     NaN    NaN   \n",
       "2   NaN       IR1          Lvl  ...            0         0     NaN    NaN   \n",
       "3   NaN       IR1          Lvl  ...            0         0     NaN    NaN   \n",
       "4   NaN       IR1          Lvl  ...            0         0     NaN  GdPrv   \n",
       "\n",
       "  Misc Feature Misc Val Mo Sold Yr Sold  Sale Type  Sale Condition  \n",
       "0          NaN        0       8    2007        WD           Normal  \n",
       "1          NaN        0       5    2010        WD           Normal  \n",
       "2          NaN        0       3    2006        New         Partial  \n",
       "3          NaN        0       6    2010        New         Partial  \n",
       "4          NaN        0       7    2006        WD           Normal  \n",
       "\n",
       "[5 rows x 81 columns]"
      ]
     },
     "execution_count": 8,
     "metadata": {},
     "output_type": "execute_result"
    }
   ],
   "source": [
    "test_df.head()"
   ]
  },
  {
   "cell_type": "markdown",
   "id": "67577b6f-35bd-470d-8a9f-319d8baa03fd",
   "metadata": {},
   "source": [
    "# Dataset Summary:"
   ]
  },
  {
   "cell_type": "code",
   "execution_count": 9,
   "id": "5fb7c18a-eb22-4320-825c-ad8af24f3afa",
   "metadata": {},
   "outputs": [
    {
     "data": {
      "text/plain": [
       "(2197, 82)"
      ]
     },
     "execution_count": 9,
     "metadata": {},
     "output_type": "execute_result"
    }
   ],
   "source": [
    "train_df.shape"
   ]
  },
  {
   "cell_type": "code",
   "execution_count": 10,
   "id": "43fd3ee4-d88c-4c48-ac26-5fc4387a1fc3",
   "metadata": {},
   "outputs": [
    {
     "data": {
      "text/plain": [
       "<bound method DataFrame.info of       Order        PID  MS SubClass MS Zoning  Lot Frontage  Lot Area Street  \\\n",
       "0       534  531363010           20        RL          80.0      9605   Pave   \n",
       "1       803  906203120           20        RL          90.0     14684   Pave   \n",
       "2       956  916176030           20        RL           NaN     14375   Pave   \n",
       "3       460  528180130          120        RL          48.0      6472   Pave   \n",
       "4       487  528290030           80        RL          61.0      9734   Pave   \n",
       "...     ...        ...          ...       ...           ...       ...    ...   \n",
       "2192   2764  906420020           60        RL          80.0     10041   Pave   \n",
       "2193    906  909129090           50        RH          70.0      6300   Pave   \n",
       "2194   1097  528292060           60        RL          41.0     12460   Pave   \n",
       "2195    236  905426060           30        RL          85.0     10625   Pave   \n",
       "2196   1062  528142020           60        RL          74.0      8899   Pave   \n",
       "\n",
       "     Alley Lot Shape Land Contour  ... Pool Area Pool QC Fence Misc Feature  \\\n",
       "0      NaN       Reg          Lvl  ...         0     NaN   NaN          NaN   \n",
       "1      NaN       IR1          Lvl  ...         0     NaN   NaN          NaN   \n",
       "2      NaN       IR1          Lvl  ...         0     NaN   NaN          NaN   \n",
       "3      NaN       Reg          Lvl  ...         0     NaN   NaN          NaN   \n",
       "4      NaN       IR1          Lvl  ...         0     NaN   NaN          NaN   \n",
       "...    ...       ...          ...  ...       ...     ...   ...          ...   \n",
       "2192   NaN       IR1          Lvl  ...         0     NaN   NaN          NaN   \n",
       "2193  Pave       Reg          Lvl  ...         0     NaN   NaN          NaN   \n",
       "2194   NaN       IR1          Lvl  ...         0     NaN   NaN          NaN   \n",
       "2195   NaN       Reg          Lvl  ...         0     NaN   NaN         Shed   \n",
       "2196   NaN       Reg          Lvl  ...         0     NaN   NaN          NaN   \n",
       "\n",
       "     Misc Val Mo Sold Yr Sold Sale Type  Sale Condition  SalePrice  \n",
       "0           0       4    2009       WD           Normal     159000  \n",
       "1           0       6    2009       WD           Normal     271900  \n",
       "2           0       1    2009       COD         Abnorml     137500  \n",
       "3           0       4    2009       WD           Normal     248500  \n",
       "4           0       5    2009       WD           Normal     167000  \n",
       "...       ...     ...     ...       ...             ...        ...  \n",
       "2192        0       2    2006       WD          Abnorml     220000  \n",
       "2193        0       7    2009       WD          Abnorml     160000  \n",
       "2194        0       5    2008       WD           Normal     225000  \n",
       "2195      400       5    2010       COD         Abnorml      83000  \n",
       "2196        0       6    2008       WD           Normal     250000  \n",
       "\n",
       "[2197 rows x 82 columns]>"
      ]
     },
     "execution_count": 10,
     "metadata": {},
     "output_type": "execute_result"
    }
   ],
   "source": [
    "train_df.info"
   ]
  },
  {
   "cell_type": "code",
   "execution_count": 11,
   "id": "1d41c729-0bec-4afb-be49-61178b211af1",
   "metadata": {},
   "outputs": [
    {
     "data": {
      "text/html": [
       "<div>\n",
       "<style scoped>\n",
       "    .dataframe tbody tr th:only-of-type {\n",
       "        vertical-align: middle;\n",
       "    }\n",
       "\n",
       "    .dataframe tbody tr th {\n",
       "        vertical-align: top;\n",
       "    }\n",
       "\n",
       "    .dataframe thead th {\n",
       "        text-align: right;\n",
       "    }\n",
       "</style>\n",
       "<table border=\"1\" class=\"dataframe\">\n",
       "  <thead>\n",
       "    <tr style=\"text-align: right;\">\n",
       "      <th></th>\n",
       "      <th>Order</th>\n",
       "      <th>PID</th>\n",
       "      <th>MS SubClass</th>\n",
       "      <th>Lot Frontage</th>\n",
       "      <th>Lot Area</th>\n",
       "      <th>Overall Qual</th>\n",
       "      <th>Overall Cond</th>\n",
       "      <th>Year Built</th>\n",
       "      <th>Year Remod/Add</th>\n",
       "      <th>Mas Vnr Area</th>\n",
       "      <th>...</th>\n",
       "      <th>Wood Deck SF</th>\n",
       "      <th>Open Porch SF</th>\n",
       "      <th>Enclosed Porch</th>\n",
       "      <th>3Ssn Porch</th>\n",
       "      <th>Screen Porch</th>\n",
       "      <th>Pool Area</th>\n",
       "      <th>Misc Val</th>\n",
       "      <th>Mo Sold</th>\n",
       "      <th>Yr Sold</th>\n",
       "      <th>SalePrice</th>\n",
       "    </tr>\n",
       "  </thead>\n",
       "  <tbody>\n",
       "    <tr>\n",
       "      <th>count</th>\n",
       "      <td>2197.000000</td>\n",
       "      <td>2.197000e+03</td>\n",
       "      <td>2197.000000</td>\n",
       "      <td>1835.000000</td>\n",
       "      <td>2197.000000</td>\n",
       "      <td>2197.000000</td>\n",
       "      <td>2197.000000</td>\n",
       "      <td>2197.000000</td>\n",
       "      <td>2197.000000</td>\n",
       "      <td>2175.000000</td>\n",
       "      <td>...</td>\n",
       "      <td>2197.000000</td>\n",
       "      <td>2197.000000</td>\n",
       "      <td>2197.000000</td>\n",
       "      <td>2197.000000</td>\n",
       "      <td>2197.000000</td>\n",
       "      <td>2197.000000</td>\n",
       "      <td>2197.000000</td>\n",
       "      <td>2197.000000</td>\n",
       "      <td>2197.000000</td>\n",
       "      <td>2197.000000</td>\n",
       "    </tr>\n",
       "    <tr>\n",
       "      <th>mean</th>\n",
       "      <td>1460.512517</td>\n",
       "      <td>7.127872e+08</td>\n",
       "      <td>57.064178</td>\n",
       "      <td>69.549319</td>\n",
       "      <td>10268.070096</td>\n",
       "      <td>6.116523</td>\n",
       "      <td>5.552572</td>\n",
       "      <td>1972.030951</td>\n",
       "      <td>1984.781065</td>\n",
       "      <td>105.101609</td>\n",
       "      <td>...</td>\n",
       "      <td>92.436959</td>\n",
       "      <td>48.768320</td>\n",
       "      <td>22.393719</td>\n",
       "      <td>2.361402</td>\n",
       "      <td>15.954028</td>\n",
       "      <td>2.789713</td>\n",
       "      <td>57.404188</td>\n",
       "      <td>6.189804</td>\n",
       "      <td>2007.793810</td>\n",
       "      <td>182376.851161</td>\n",
       "    </tr>\n",
       "    <tr>\n",
       "      <th>std</th>\n",
       "      <td>846.537251</td>\n",
       "      <td>1.887751e+08</td>\n",
       "      <td>42.360690</td>\n",
       "      <td>23.188224</td>\n",
       "      <td>7975.740885</td>\n",
       "      <td>1.429613</td>\n",
       "      <td>1.107019</td>\n",
       "      <td>30.450069</td>\n",
       "      <td>20.898245</td>\n",
       "      <td>184.897165</td>\n",
       "      <td>...</td>\n",
       "      <td>121.422842</td>\n",
       "      <td>69.127588</td>\n",
       "      <td>62.063281</td>\n",
       "      <td>22.843004</td>\n",
       "      <td>56.495484</td>\n",
       "      <td>39.991010</td>\n",
       "      <td>639.103790</td>\n",
       "      <td>2.746902</td>\n",
       "      <td>1.314345</td>\n",
       "      <td>81168.157405</td>\n",
       "    </tr>\n",
       "    <tr>\n",
       "      <th>min</th>\n",
       "      <td>1.000000</td>\n",
       "      <td>5.263011e+08</td>\n",
       "      <td>20.000000</td>\n",
       "      <td>21.000000</td>\n",
       "      <td>1300.000000</td>\n",
       "      <td>1.000000</td>\n",
       "      <td>1.000000</td>\n",
       "      <td>1872.000000</td>\n",
       "      <td>1950.000000</td>\n",
       "      <td>0.000000</td>\n",
       "      <td>...</td>\n",
       "      <td>0.000000</td>\n",
       "      <td>0.000000</td>\n",
       "      <td>0.000000</td>\n",
       "      <td>0.000000</td>\n",
       "      <td>0.000000</td>\n",
       "      <td>0.000000</td>\n",
       "      <td>0.000000</td>\n",
       "      <td>1.000000</td>\n",
       "      <td>2006.000000</td>\n",
       "      <td>13100.000000</td>\n",
       "    </tr>\n",
       "    <tr>\n",
       "      <th>25%</th>\n",
       "      <td>733.000000</td>\n",
       "      <td>5.284410e+08</td>\n",
       "      <td>20.000000</td>\n",
       "      <td>58.500000</td>\n",
       "      <td>7500.000000</td>\n",
       "      <td>5.000000</td>\n",
       "      <td>5.000000</td>\n",
       "      <td>1954.000000</td>\n",
       "      <td>1966.000000</td>\n",
       "      <td>0.000000</td>\n",
       "      <td>...</td>\n",
       "      <td>0.000000</td>\n",
       "      <td>0.000000</td>\n",
       "      <td>0.000000</td>\n",
       "      <td>0.000000</td>\n",
       "      <td>0.000000</td>\n",
       "      <td>0.000000</td>\n",
       "      <td>0.000000</td>\n",
       "      <td>4.000000</td>\n",
       "      <td>2007.000000</td>\n",
       "      <td>130000.000000</td>\n",
       "    </tr>\n",
       "    <tr>\n",
       "      <th>50%</th>\n",
       "      <td>1452.000000</td>\n",
       "      <td>5.354532e+08</td>\n",
       "      <td>50.000000</td>\n",
       "      <td>69.000000</td>\n",
       "      <td>9488.000000</td>\n",
       "      <td>6.000000</td>\n",
       "      <td>5.000000</td>\n",
       "      <td>1975.000000</td>\n",
       "      <td>1994.000000</td>\n",
       "      <td>0.000000</td>\n",
       "      <td>...</td>\n",
       "      <td>0.000000</td>\n",
       "      <td>28.000000</td>\n",
       "      <td>0.000000</td>\n",
       "      <td>0.000000</td>\n",
       "      <td>0.000000</td>\n",
       "      <td>0.000000</td>\n",
       "      <td>0.000000</td>\n",
       "      <td>6.000000</td>\n",
       "      <td>2008.000000</td>\n",
       "      <td>163500.000000</td>\n",
       "    </tr>\n",
       "    <tr>\n",
       "      <th>75%</th>\n",
       "      <td>2196.000000</td>\n",
       "      <td>9.071811e+08</td>\n",
       "      <td>70.000000</td>\n",
       "      <td>80.000000</td>\n",
       "      <td>11660.000000</td>\n",
       "      <td>7.000000</td>\n",
       "      <td>6.000000</td>\n",
       "      <td>2002.000000</td>\n",
       "      <td>2004.000000</td>\n",
       "      <td>166.000000</td>\n",
       "      <td>...</td>\n",
       "      <td>168.000000</td>\n",
       "      <td>72.000000</td>\n",
       "      <td>0.000000</td>\n",
       "      <td>0.000000</td>\n",
       "      <td>0.000000</td>\n",
       "      <td>0.000000</td>\n",
       "      <td>0.000000</td>\n",
       "      <td>8.000000</td>\n",
       "      <td>2009.000000</td>\n",
       "      <td>215000.000000</td>\n",
       "    </tr>\n",
       "    <tr>\n",
       "      <th>max</th>\n",
       "      <td>2929.000000</td>\n",
       "      <td>1.007100e+09</td>\n",
       "      <td>190.000000</td>\n",
       "      <td>313.000000</td>\n",
       "      <td>215245.000000</td>\n",
       "      <td>10.000000</td>\n",
       "      <td>9.000000</td>\n",
       "      <td>2010.000000</td>\n",
       "      <td>2010.000000</td>\n",
       "      <td>1600.000000</td>\n",
       "      <td>...</td>\n",
       "      <td>870.000000</td>\n",
       "      <td>742.000000</td>\n",
       "      <td>584.000000</td>\n",
       "      <td>360.000000</td>\n",
       "      <td>576.000000</td>\n",
       "      <td>800.000000</td>\n",
       "      <td>17000.000000</td>\n",
       "      <td>12.000000</td>\n",
       "      <td>2010.000000</td>\n",
       "      <td>755000.000000</td>\n",
       "    </tr>\n",
       "  </tbody>\n",
       "</table>\n",
       "<p>8 rows × 39 columns</p>\n",
       "</div>"
      ],
      "text/plain": [
       "             Order           PID  MS SubClass  Lot Frontage       Lot Area  \\\n",
       "count  2197.000000  2.197000e+03  2197.000000   1835.000000    2197.000000   \n",
       "mean   1460.512517  7.127872e+08    57.064178     69.549319   10268.070096   \n",
       "std     846.537251  1.887751e+08    42.360690     23.188224    7975.740885   \n",
       "min       1.000000  5.263011e+08    20.000000     21.000000    1300.000000   \n",
       "25%     733.000000  5.284410e+08    20.000000     58.500000    7500.000000   \n",
       "50%    1452.000000  5.354532e+08    50.000000     69.000000    9488.000000   \n",
       "75%    2196.000000  9.071811e+08    70.000000     80.000000   11660.000000   \n",
       "max    2929.000000  1.007100e+09   190.000000    313.000000  215245.000000   \n",
       "\n",
       "       Overall Qual  Overall Cond   Year Built  Year Remod/Add  Mas Vnr Area  \\\n",
       "count   2197.000000   2197.000000  2197.000000     2197.000000   2175.000000   \n",
       "mean       6.116523      5.552572  1972.030951     1984.781065    105.101609   \n",
       "std        1.429613      1.107019    30.450069       20.898245    184.897165   \n",
       "min        1.000000      1.000000  1872.000000     1950.000000      0.000000   \n",
       "25%        5.000000      5.000000  1954.000000     1966.000000      0.000000   \n",
       "50%        6.000000      5.000000  1975.000000     1994.000000      0.000000   \n",
       "75%        7.000000      6.000000  2002.000000     2004.000000    166.000000   \n",
       "max       10.000000      9.000000  2010.000000     2010.000000   1600.000000   \n",
       "\n",
       "       ...  Wood Deck SF  Open Porch SF  Enclosed Porch   3Ssn Porch  \\\n",
       "count  ...   2197.000000    2197.000000     2197.000000  2197.000000   \n",
       "mean   ...     92.436959      48.768320       22.393719     2.361402   \n",
       "std    ...    121.422842      69.127588       62.063281    22.843004   \n",
       "min    ...      0.000000       0.000000        0.000000     0.000000   \n",
       "25%    ...      0.000000       0.000000        0.000000     0.000000   \n",
       "50%    ...      0.000000      28.000000        0.000000     0.000000   \n",
       "75%    ...    168.000000      72.000000        0.000000     0.000000   \n",
       "max    ...    870.000000     742.000000      584.000000   360.000000   \n",
       "\n",
       "       Screen Porch    Pool Area      Misc Val      Mo Sold      Yr Sold  \\\n",
       "count   2197.000000  2197.000000   2197.000000  2197.000000  2197.000000   \n",
       "mean      15.954028     2.789713     57.404188     6.189804  2007.793810   \n",
       "std       56.495484    39.991010    639.103790     2.746902     1.314345   \n",
       "min        0.000000     0.000000      0.000000     1.000000  2006.000000   \n",
       "25%        0.000000     0.000000      0.000000     4.000000  2007.000000   \n",
       "50%        0.000000     0.000000      0.000000     6.000000  2008.000000   \n",
       "75%        0.000000     0.000000      0.000000     8.000000  2009.000000   \n",
       "max      576.000000   800.000000  17000.000000    12.000000  2010.000000   \n",
       "\n",
       "           SalePrice  \n",
       "count    2197.000000  \n",
       "mean   182376.851161  \n",
       "std     81168.157405  \n",
       "min     13100.000000  \n",
       "25%    130000.000000  \n",
       "50%    163500.000000  \n",
       "75%    215000.000000  \n",
       "max    755000.000000  \n",
       "\n",
       "[8 rows x 39 columns]"
      ]
     },
     "execution_count": 11,
     "metadata": {},
     "output_type": "execute_result"
    }
   ],
   "source": [
    "train_df.describe()"
   ]
  },
  {
   "cell_type": "code",
   "execution_count": 12,
   "id": "7c0cdccc-682e-4944-ad69-d36b656b6eb0",
   "metadata": {},
   "outputs": [
    {
     "data": {
      "text/plain": [
       "<Axes: >"
      ]
     },
     "execution_count": 12,
     "metadata": {},
     "output_type": "execute_result"
    },
    {
     "data": {
      "image/png": "[encoded data removed]",
      "text/plain": [
       "<Figure size 640x480 with 1 Axes>"
      ]
     },
     "metadata": {},
     "output_type": "display_data"
    }
   ],
   "source": [
    "train_df.describe().T.plot()"
   ]
  },
  {
   "cell_type": "markdown",
   "id": "23fd7473-44fd-4849-8621-b03a594bd507",
   "metadata": {},
   "source": [
    "# Exploratory Data Analysis (EDA)"
   ]
  },
  {
   "cell_type": "code",
   "execution_count": 13,
   "id": "9db0ef6a-7a51-4c1c-b900-854c9d849846",
   "metadata": {},
   "outputs": [
    {
     "name": "stderr",
     "output_type": "stream",
     "text": [
      "C:\\Users\\PMLS\\anaconda3\\Lib\\site-packages\\seaborn\\_oldcore.py:1119: FutureWarning: use_inf_as_na option is deprecated and will be removed in a future version. Convert inf values to NaN before operating instead.\n",
      "  with pd.option_context('mode.use_inf_as_na', True):\n"
     ]
    },
    {
     "data": {
      "image/png": "[encoded data removed]",
      "text/plain": [
       "<Figure size 640x480 with 1 Axes>"
      ]
     },
     "metadata": {},
     "output_type": "display_data"
    }
   ],
   "source": [
    "# Visualizing the distribution of the target variable 'SalePrice'\n",
    "sns.histplot(train_df['SalePrice'], kde=True)\n",
    "plt.title('Distribution of SalePrice')\n",
    "plt.xlabel('SalePrice')\n",
    "plt.ylabel('Frequency')\n",
    "plt.show()"
   ]
  },
  {
   "cell_type": "markdown",
   "id": "71648011-79ba-4a57-ae7d-aa89d0afe2fd",
   "metadata": {},
   "source": [
    "# Data Cleaning And PreProcessing"
   ]
  },
  {
   "cell_type": "code",
   "execution_count": 14,
   "id": "851ba96e-a73e-4682-87a5-e8ba191c7224",
   "metadata": {},
   "outputs": [
    {
     "data": {
      "text/plain": [
       "Order               0\n",
       "PID                 0\n",
       "MS SubClass         0\n",
       "MS Zoning           0\n",
       "Lot Frontage      362\n",
       "                 ... \n",
       "Mo Sold             0\n",
       "Yr Sold             0\n",
       "Sale Type           0\n",
       "Sale Condition      0\n",
       "SalePrice           0\n",
       "Length: 82, dtype: int64"
      ]
     },
     "execution_count": 14,
     "metadata": {},
     "output_type": "execute_result"
    }
   ],
   "source": [
    "# Missing Values:\n",
    "train_df.isnull().sum()"
   ]
  },
  {
   "cell_type": "code",
   "execution_count": 15,
   "id": "2d3d3b21-5882-4e5f-8492-97306b9a84e6",
   "metadata": {},
   "outputs": [
    {
     "data": {
      "text/plain": [
       "Order              0.000000\n",
       "PID                0.000000\n",
       "MS SubClass        0.000000\n",
       "MS Zoning          0.000000\n",
       "Lot Frontage      16.477014\n",
       "                    ...    \n",
       "Mo Sold            0.000000\n",
       "Yr Sold            0.000000\n",
       "Sale Type          0.000000\n",
       "Sale Condition     0.000000\n",
       "SalePrice          0.000000\n",
       "Length: 82, dtype: float64"
      ]
     },
     "execution_count": 15,
     "metadata": {},
     "output_type": "execute_result"
    }
   ],
   "source": [
    "# Percentage of Missing Values:\n",
    "(train_df.isnull().sum()/train_df.shape[0])*100"
   ]
  },
  {
   "cell_type": "code",
   "execution_count": 16,
   "id": "d5aa608a-86f7-40e7-a9fb-95ff3de14e37",
   "metadata": {},
   "outputs": [],
   "source": [
    "# Filling Missing Values"
   ]
  },
  {
   "cell_type": "code",
   "execution_count": 17,
   "id": "08f78fa4-3d92-4f9d-a8d2-a0e0960177d8",
   "metadata": {},
   "outputs": [],
   "source": [
    "train_df['Lot Frontage'] = train_df['Lot Frontage'].fillna(train_df['Lot Frontage'].median())"
   ]
  },
  {
   "cell_type": "code",
   "execution_count": 18,
   "id": "a3d09cec-1311-4c08-9150-fcd20dcb60d2",
   "metadata": {},
   "outputs": [],
   "source": [
    "train_df['Garage Type'] = train_df['Garage Type'].fillna(train_df['Garage Type'].mode()[0])"
   ]
  },
  {
   "cell_type": "code",
   "execution_count": 20,
   "id": "3fbad906-fa1d-44cf-b8de-1ee21f9dee63",
   "metadata": {},
   "outputs": [],
   "source": [
    "train_df['Garage Finish'] = train_df['Garage Finish'].fillna('None')"
   ]
  },
  {
   "cell_type": "code",
   "execution_count": 42,
   "id": "d579240c-93f8-4287-ac75-39be93dc0fa9",
   "metadata": {},
   "outputs": [],
   "source": [
    "features_with_Nan = [features for features in train_df.columns if train_df[features].isnull().sum()>=1 ]"
   ]
  },
  {
   "cell_type": "code",
   "execution_count": 43,
   "id": "ff3f1d13-364e-4e09-b1da-cbd1f16267e8",
   "metadata": {},
   "outputs": [
    {
     "data": {
      "text/plain": [
       "['Mas Vnr Area',\n",
       " 'BsmtFin SF 1',\n",
       " 'BsmtFin SF 2',\n",
       " 'Bsmt Unf SF',\n",
       " 'Total Bsmt SF',\n",
       " 'Bsmt Full Bath',\n",
       " 'Bsmt Half Bath',\n",
       " 'Garage Yr Blt',\n",
       " 'Garage Cars',\n",
       " 'Garage Area']"
      ]
     },
     "execution_count": 43,
     "metadata": {},
     "output_type": "execute_result"
    }
   ],
   "source": [
    "features_with_Nan"
   ]
  },
  {
   "cell_type": "code",
   "execution_count": 45,
   "id": "ed156a29-27d2-4b90-903f-1eae4936dce9",
   "metadata": {},
   "outputs": [
    {
     "name": "stdout",
     "output_type": "stream",
     "text": [
      "Numerical features with missing values: ['Mas Vnr Area', 'BsmtFin SF 1', 'BsmtFin SF 2', 'Bsmt Unf SF', 'Total Bsmt SF', 'Bsmt Full Bath', 'Bsmt Half Bath', 'Garage Yr Blt', 'Garage Cars', 'Garage Area']\n",
      "Categorical features with missing values: []\n"
     ]
    }
   ],
   "source": [
    "# List of numerical and categorical columns with missing values\n",
    "numerical_features_with_missing = [col for col in train_df.columns if train_df[col].dtype in ['int64', 'float64'] and train_df[col].isnull().any()]\n",
    "categorical_features_with_missing = [col for col in train_df.columns if train_df[col].dtype == 'object' and train_df[col].isnull().any()]\n",
    "\n",
    "print(\"Numerical features with missing values:\", numerical_features_with_missing)\n",
    "print(\"Categorical features with missing values:\", categorical_features_with_missing)"
   ]
  },
  {
   "cell_type": "code",
   "execution_count": 47,
   "id": "a39aa8ec-6b8b-49ab-8b7c-e74234dce12a",
   "metadata": {},
   "outputs": [],
   "source": [
    "# Impute missing numerical features with the median\n",
    "for col in numerical_features_with_missing:\n",
    "    train_df[col].fillna(train_df[col].median(), inplace=True)"
   ]
  },
  {
   "cell_type": "code",
   "execution_count": 48,
   "id": "00f5c644-a98f-4b8e-94df-a6b019dd7ee4",
   "metadata": {},
   "outputs": [],
   "source": [
    "# Impute missing categorical features with mode or a custom label\n",
    "for col in categorical_features_with_missing:\n",
    "    if 'Garage' in col or 'Bsmt' in col:\n",
    "        train_df[col].fillna('None', inplace=True)\n",
    "        test_df[col].fillna('None', inplace=True)\n",
    "    else:\n",
    "        train_df[col].fillna(train_data[col].mode()[0], inplace=True)"
   ]
  },
  {
   "cell_type": "code",
   "execution_count": 49,
   "id": "b3dd6c3d-66b2-4ee2-8ef6-06ef9ad63a91",
   "metadata": {},
   "outputs": [],
   "source": [
    "# Encoding categorical variables using one-hot encoding\n",
    "train_df = pd.get_dummies(train_df)"
   ]
  },
  {
   "cell_type": "code",
   "execution_count": 37,
   "id": "39e80e32-6d69-4975-9cea-e07ccd6d5c35",
   "metadata": {},
   "outputs": [
    {
     "data": {
      "text/plain": [
       "Index(['Order', 'PID', 'MS SubClass', 'Lot Frontage', 'Lot Area',\n",
       "       'Overall Qual', 'Overall Cond', 'Year Built', 'Year Remod/Add',\n",
       "       'Mas Vnr Area',\n",
       "       ...\n",
       "       'Sale Type_VWD', 'Sale Type_WD ', 'Sale Condition_Abnorml',\n",
       "       'Sale Condition_AdjLand', 'Sale Condition_Alloca',\n",
       "       'Sale Condition_Family', 'Sale Condition_Normal',\n",
       "       'Sale Condition_Partial', 'House Age', 'Years Since Remodel'],\n",
       "      dtype='object', length=309)"
      ]
     },
     "execution_count": 37,
     "metadata": {},
     "output_type": "execute_result"
    }
   ],
   "source": [
    "train_df.columns"
   ]
  },
  {
   "cell_type": "code",
   "execution_count": 54,
   "id": "0247db18-e813-47bc-8e4a-34a898579dcb",
   "metadata": {},
   "outputs": [
    {
     "data": {
      "text/plain": [
       "0"
      ]
     },
     "execution_count": 54,
     "metadata": {},
     "output_type": "execute_result"
    }
   ],
   "source": [
    "train_df.isnull().sum().sum()"
   ]
  },
  {
   "cell_type": "markdown",
   "id": "c316219c-9d46-4f1a-a708-98f721535ff4",
   "metadata": {},
   "source": [
    "# Feature Engineering"
   ]
  },
  {
   "cell_type": "code",
   "execution_count": 51,
   "id": "230ce5de-df48-482e-898e-f8ff023016b5",
   "metadata": {},
   "outputs": [],
   "source": [
    "# Create 'TotalSF' by summing up relevant square footage columns\n",
    "train_df['Total SF'] = train_df['Total Bsmt SF'] + train_df['1st Flr SF'] + train_df['2nd Flr SF']"
   ]
  },
  {
   "cell_type": "code",
   "execution_count": 52,
   "id": "53673deb-c6b9-4b32-8012-6f7362414e71",
   "metadata": {},
   "outputs": [],
   "source": [
    "# Age of the House: Calculate the age of the house from the year built and the year sold.\n",
    "train_df['House Age'] = train_df['Yr Sold'] - train_df['Year Built']"
   ]
  },
  {
   "cell_type": "code",
   "execution_count": 53,
   "id": "886c8bdc-bc0a-4970-b7f3-3a706de55eda",
   "metadata": {},
   "outputs": [],
   "source": [
    "# Years Since Remodel: Create a feature for the number of years since the last remodel\n",
    "train_df['Years Since Remodel'] = train_df['Yr Sold'] - train_df['Year Remod/Add']"
   ]
  },
  {
   "cell_type": "markdown",
   "id": "5560302a-9ca2-49c9-a0cc-e17e5d395a16",
   "metadata": {},
   "source": [
    "# Model Building\n",
    "#Splitting Data into Training and Validation Sets:"
   ]
  },
  {
   "cell_type": "code",
   "execution_count": 57,
   "id": "dc434d60-f0d7-4ff1-901f-599260aca787",
   "metadata": {},
   "outputs": [],
   "source": [
    "from sklearn.model_selection import train_test_split\n",
    "\n",
    "# Prepare the feature matrix and target vector\n",
    "X = train_df.drop('SalePrice', axis=1)\n",
    "y = train_df['SalePrice']\n",
    "\n",
    "# Split the data\n",
    "X_train, X_valid, y_train, y_valid = train_test_split(X, y, test_size=0.2, random_state=42)"
   ]
  },
  {
   "cell_type": "markdown",
   "id": "88ae16a6-439f-43ae-84d2-6db3c1db5eb9",
   "metadata": {},
   "source": [
    "#Training Models:"
   ]
  },
  {
   "cell_type": "code",
   "execution_count": 59,
   "id": "3b27b212-13ca-47b4-86b6-eb9b94f42015",
   "metadata": {},
   "outputs": [],
   "source": [
    "from sklearn.linear_model import LinearRegression\n",
    "from sklearn.ensemble import RandomForestRegressor\n",
    "from sklearn.metrics import mean_squared_error\n",
    "\n",
    "# Linear Regression Model\n",
    "lr_model = LinearRegression()\n",
    "lr_model.fit(X_train, y_train)\n",
    "y_pred_lr = lr_model.predict(X_valid)\n",
    "\n",
    "# Random Forest Model\n",
    "rf_model = RandomForestRegressor(n_estimators=100, random_state=42)\n",
    "rf_model.fit(X_train, y_train)\n",
    "y_pred_rf = rf_model.predict(X_valid)"
   ]
  },
  {
   "cell_type": "markdown",
   "id": "197d8b44-fee2-4ece-8ac3-d88485ef728d",
   "metadata": {},
   "source": [
    "# Model Evaluation:"
   ]
  },
  {
   "cell_type": "code",
   "execution_count": 60,
   "id": "dbde1758-222d-497e-874b-c13114b3d23a",
   "metadata": {},
   "outputs": [
    {
     "name": "stdout",
     "output_type": "stream",
     "text": [
      "Linear Regression RMSE: 31431.05085942506\n",
      "Random Forest RMSE: 27425.098793319932\n"
     ]
    }
   ],
   "source": [
    "from sklearn.metrics import mean_squared_error\n",
    "\n",
    "# Evaluate Linear Regression\n",
    "mse_lr = mean_squared_error(y_valid, y_pred_lr)\n",
    "rmse_lr = np.sqrt(mse_lr)\n",
    "print(f\"Linear Regression RMSE: {rmse_lr}\")\n",
    "\n",
    "# Evaluate Random Forest\n",
    "mse_rf = mean_squared_error(y_valid, y_pred_rf)\n",
    "rmse_rf = np.sqrt(mse_rf)\n",
    "print(f\"Random Forest RMSE: {rmse_rf}\")"
   ]
  },
  {
   "cell_type": "markdown",
   "id": "dfd185bd-32b1-46f3-b563-97eecd30f4a1",
   "metadata": {},
   "source": [
    "#Visualizing Model Performance"
   ]
  },
  {
   "cell_type": "code",
   "execution_count": 61,
   "id": "7f532fd3-c73f-434b-94b3-64a3fede3141",
   "metadata": {},
   "outputs": [
    {
     "data": {
      "image/png": "[encoded data removed]",
      "text/plain": [
       "<Figure size 800x600 with 1 Axes>"
      ]
     },
     "metadata": {},
     "output_type": "display_data"
    }
   ],
   "source": [
    "# Plot predicted vs actual\n",
    "plt.figure(figsize=(8, 6))\n",
    "plt.scatter(y_valid, y_pred_rf, alpha=0.5)\n",
    "plt.xlabel('Actual SalePrice (log-transformed)')\n",
    "plt.ylabel('Predicted SalePrice (log-transformed)')\n",
    "plt.title('Actual vs Predicted SalePrice (Random Forest)')\n",
    "plt.show()"
   ]
  },
  {
   "cell_type": "markdown",
   "id": "966298b1-b5c0-49f8-bc6d-ab30b41530e6",
   "metadata": {},
   "source": [
    "# Project Summary\n",
    "\n",
    "## Objective\n",
    "Predict house prices in Ames, Iowa using the Ames Housing dataset to build an accurate regression model and understand key factors influencing property values.\n",
    "\n",
    "## Data Overview\n",
    "The Ames Housing dataset from Kaggle includes detailed house attributes. The dataset is split into training and test sets, with `SalePrice` as the target variable in the training set.\n",
    "\n",
    "## Data Preprocessing\n",
    "- **Missing Values:** Imputed using median for numerical features and mode for categorical features.\n",
    "- **Feature Engineering:** Created `TotalSF` (sum of different square footage measurements). Applied one-hot encoding to categorical features.\n",
    "## Exploratory Data Analysis (EDA)\n",
    "- Analyzed distribution and relationships between features and `SalePrice`.\n",
    "- Key findings: `TotalSF`, `OverallQual`, and `Neighborhood` significantly impact house prices.\n",
    "\n",
    "## Model Building\n",
    "- **Models Tested:** Linear Regression and Random Forest Regressor.\n",
    "- **Performance:** Random Forest model outperformed Linear Regression with better RMSE and R-squared values.\n",
    "\n",
    "## Evaluation\n",
    "- **Random Forest Model:** Achieved RMSE of [value], MAE of [value], R-squared of [value]. Predictions closely matched actual prices.\n",
    "\n",
    "## Conclusion\n",
    "The Random Forest model provided accurate predictions of house prices. Key features influencing prices were identified, confirming the model's effectiveness.\n"
   ]
  },
  {
   "cell_type": "code",
   "execution_count": null,
   "id": "cfc685ae-1ffd-47fb-ab62-ff367fb7a986",
   "metadata": {},
   "outputs": [],
   "source": []
  }
 ],
 "metadata": {
  "kernelspec": {
   "display_name": "Python 3 (ipykernel)",
   "language": "python",
   "name": "python3"
  },
  "language_info": {
   "codemirror_mode": {
    "name": "ipython",
    "version": 3
   },
   "file_extension": ".py",
   "mimetype": "text/x-python",
   "name": "python",
   "nbconvert_exporter": "python",
   "pygments_lexer": "ipython3",
   "version": "3.11.7"
  }
 },
 "nbformat": 4,
 "nbformat_minor": 5
}
